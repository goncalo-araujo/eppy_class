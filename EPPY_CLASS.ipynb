{
 "cells": [
  {
   "cell_type": "markdown",
   "id": "0da2e72a",
   "metadata": {},
   "source": [
    "# Import Eppy and Set Work Environment"
   ]
  },
  {
   "cell_type": "markdown",
   "id": "60e44987",
   "metadata": {},
   "source": [
    "In this cell we import the EnergyPlus idd file, building idf file, and materials idf file that contains our material library (which we will require later on)."
   ]
  },
  {
   "cell_type": "code",
   "execution_count": null,
   "id": "e211a721",
   "metadata": {},
   "outputs": [],
   "source": [
    "! pip install eppy"
   ]
  },
  {
   "cell_type": "code",
   "execution_count": null,
   "id": "d351114a",
   "metadata": {},
   "outputs": [],
   "source": [
    "import sys\n",
    "from eppy import modeleditor\n",
    "from eppy.modeleditor import IDF\n",
    "iddfile = r\"C:\\EnergyPlusV9-5-0\\Energy+.idd\" #change to your energy+ idd filepath\n",
    "fname1 = r\"C:\\Users\\GRA\\OneDrive - Universidade de Lisboa\\Desktop\\IN+\\C-Tech\\EPPY\\untitled.idf\" #change to your idf file path\n",
    "fname2 = r\"C:\\Users\\GRA\\OneDrive - Universidade de Lisboa\\Desktop\\IN+\\C-Tech\\EPPY\\EPPY_Class\\materials.idf\" #change to your materials idf filepath\n",
    "weather_file = r\"C:\\Users\\GRA\\OneDrive - Universidade de Lisboa\\Desktop\\IN+\\C-Tech\\EPPY\\LISBOA\\PRT_LB_Lisboa.Portela.AP.085360_TMYx.2004-2018.epw\" #change to your weather file path\n"
   ]
  },
  {
   "cell_type": "code",
   "execution_count": null,
   "id": "1158a459",
   "metadata": {},
   "outputs": [],
   "source": [
    "from eppy import modeleditor"
   ]
  },
  {
   "cell_type": "code",
   "execution_count": null,
   "id": "f8f4ccf8",
   "metadata": {
    "scrolled": true
   },
   "outputs": [],
   "source": [
    "IDF.setiddname(iddfile)\n",
    "idf1 = IDF(fname1, weather_file)\n",
    "materials = IDF(fname2, weather_file)"
   ]
  },
  {
   "cell_type": "markdown",
   "id": "e5720f93",
   "metadata": {},
   "source": [
    "In this cell we import other packages required for Data visualization such as numpy and pandas"
   ]
  },
  {
   "cell_type": "code",
   "execution_count": null,
   "id": "c9d0674e",
   "metadata": {},
   "outputs": [],
   "source": [
    "! pip install numpy"
   ]
  },
  {
   "cell_type": "code",
   "execution_count": null,
   "id": "b04fcbe9",
   "metadata": {},
   "outputs": [],
   "source": [
    "! pip install pandas"
   ]
  },
  {
   "cell_type": "code",
   "execution_count": null,
   "id": "475df432",
   "metadata": {},
   "outputs": [],
   "source": [
    "! pip install matplotlib"
   ]
  },
  {
   "cell_type": "code",
   "execution_count": null,
   "id": "5b8830bb",
   "metadata": {},
   "outputs": [],
   "source": [
    "! pip install seaborn"
   ]
  },
  {
   "cell_type": "code",
   "execution_count": null,
   "id": "9838378d",
   "metadata": {},
   "outputs": [],
   "source": [
    "import numpy as np\n",
    "import pandas as pd\n",
    "import matplotlib.pyplot as plt\n",
    "import seaborn as sns"
   ]
  },
  {
   "cell_type": "markdown",
   "id": "9ce15a2c",
   "metadata": {},
   "source": [
    "# Run IDF"
   ]
  },
  {
   "cell_type": "code",
   "execution_count": null,
   "id": "ef89cbcd",
   "metadata": {},
   "outputs": [],
   "source": [
    "idf1.run()"
   ]
  },
  {
   "cell_type": "markdown",
   "id": "f453b6c5",
   "metadata": {},
   "source": [
    "# Data Visualization"
   ]
  },
  {
   "cell_type": "markdown",
   "id": "216f23dc",
   "metadata": {},
   "source": [
    "To visualize the data we need to import esoreader, which reads the eso file that is returned by the E+ simulation"
   ]
  },
  {
   "cell_type": "code",
   "execution_count": null,
   "id": "bcb4f3aa",
   "metadata": {},
   "outputs": [],
   "source": [
    "! pip install esoreader"
   ]
  },
  {
   "cell_type": "code",
   "execution_count": null,
   "id": "8d3670ae",
   "metadata": {},
   "outputs": [],
   "source": [
    "import esoreader"
   ]
  },
  {
   "cell_type": "code",
   "execution_count": null,
   "id": "c0574853",
   "metadata": {},
   "outputs": [],
   "source": [
    "eso = esoreader.read_from_path(r\"C:\\Users\\GRA\\OneDrive - Universidade de Lisboa\\Desktop\\IN+\\C-Tech\\EPPY\\EPPY_Class\\eplusout.eso\")"
   ]
  },
  {
   "cell_type": "markdown",
   "id": "bea97bec",
   "metadata": {},
   "source": [
    "The eso file returns multiple python dictionaries with integer keys as seen above"
   ]
  },
  {
   "cell_type": "code",
   "execution_count": null,
   "id": "2464fd83",
   "metadata": {},
   "outputs": [],
   "source": [
    "eso.dd.variables[119]"
   ]
  },
  {
   "cell_type": "code",
   "execution_count": null,
   "id": "6e0525a8",
   "metadata": {
    "scrolled": true
   },
   "outputs": [],
   "source": [
    "eso.data[218]"
   ]
  },
  {
   "cell_type": "markdown",
   "id": "0dbf85e9",
   "metadata": {},
   "source": [
    "As seen, we have a dictionary that yields the output timestep, building name, and output nme, for each key, and a dictionary that yields each key's respective data. Thus, we can create a dataframe from a dictionary for target keys that we want to visualize or study."
   ]
  },
  {
   "cell_type": "code",
   "execution_count": null,
   "id": "186eb1c1",
   "metadata": {},
   "outputs": [],
   "source": [
    "eso.dd.variables.keys()"
   ]
  },
  {
   "cell_type": "code",
   "execution_count": null,
   "id": "b60d60b8",
   "metadata": {},
   "outputs": [],
   "source": [
    "targets = [7, 8, 119, 169, 218, 134, 183]\n",
    "results = pd.DataFrame({eso.dd.variables[key][2]: eso.data[key] for key in eso.data.keys() if key in targets})"
   ]
  },
  {
   "cell_type": "code",
   "execution_count": null,
   "id": "8ea7b545",
   "metadata": {},
   "outputs": [],
   "source": [
    "results"
   ]
  },
  {
   "cell_type": "code",
   "execution_count": null,
   "id": "dccb57be",
   "metadata": {
    "scrolled": false
   },
   "outputs": [],
   "source": [
    "g = sns.lineplot(data=results[[\"Zone Ideal Loads Supply Air Total Cooling Energy\",\n",
    "                               \"Zone Ideal Loads Supply Air Sensible Heating Energy\"]], \n",
    "                 legend=True,\n",
    "                 alpha=0.5,\n",
    "                 linewidth=1)\n",
    "\n",
    "sns.set(rc={\"figure.figsize\":(16, 8)})"
   ]
  },
  {
   "cell_type": "markdown",
   "id": "d91f1c78",
   "metadata": {},
   "source": [
    "# Creating zone Constructions and applying constructions to surfaces"
   ]
  },
  {
   "cell_type": "markdown",
   "id": "5b92a6c2",
   "metadata": {},
   "source": [
    "EnergyPlus Zone constructions are IDF objects with layers as fields, and each layer has a material name that the software will call from the idf material objects. Thus, we need to isolate each material objects from our materials database IDF based on their type:"
   ]
  },
  {
   "cell_type": "code",
   "execution_count": null,
   "id": "344e1e05",
   "metadata": {},
   "outputs": [],
   "source": [
    "mats = materials.idfobjects[\"MATERIAL\"] #Opaque materials\n",
    "window_mats = materials.idfobjects[\"WINDOWMATERIAL:GLAZING\"] #Window materials - Glazings\n",
    "window_airgaps_mats = materials.idfobjects[\"WINDOWMATERIAL:GAS\"] #Window materials - Airgaps\n",
    "airgap_mats = materials.idfobjects[\"MATERIAL:AIRGAP\"] #airgap materials for opaque constructions"
   ]
  },
  {
   "cell_type": "code",
   "execution_count": null,
   "id": "09186dfc",
   "metadata": {},
   "outputs": [],
   "source": [
    "full_mats = []\n",
    "for i in [mats, window_mats, window_airgaps_mats, airgap_mats]:\n",
    "    full_mats = np.append(full_mats, i)"
   ]
  },
  {
   "cell_type": "code",
   "execution_count": null,
   "id": "2e23e5ae",
   "metadata": {},
   "outputs": [],
   "source": [
    "full_mats"
   ]
  },
  {
   "cell_type": "markdown",
   "id": "f66daa1d",
   "metadata": {},
   "source": [
    "We see that the opaque Material Names have spaces. While energy plus works with this, EPPY and python don't like spaces in definitions! lets remove the spaces from the strings and copy the idf objects to our zone idf"
   ]
  },
  {
   "cell_type": "code",
   "execution_count": null,
   "id": "487b3b2c",
   "metadata": {},
   "outputs": [],
   "source": [
    "for mat in full_mats:\n",
    "    mat.Name = mat.Name.replace(\" \", \"\")"
   ]
  },
  {
   "cell_type": "code",
   "execution_count": null,
   "id": "5f77b5cf",
   "metadata": {},
   "outputs": [],
   "source": [
    "for mat in full_mats:\n",
    "    idf1.copyidfobject(mat)"
   ]
  },
  {
   "cell_type": "markdown",
   "id": "685e8e0b",
   "metadata": {},
   "source": [
    "Now that we have copied our materials library to our idf, lets analyse the constructions in our zone and choose the materials for the construction we are going to create and apply to a wall. Thus, a wall construction"
   ]
  },
  {
   "cell_type": "code",
   "execution_count": null,
   "id": "c89bdca6",
   "metadata": {},
   "outputs": [],
   "source": [
    "construction = [\"Reboco-2cm\", \"TijoloFurado_11\", \"XPS_4\", \"TijoloFurado_11\", \"Arg_Cimento_Clara_2.5\", \"Estuque_Claro_1.5\"]"
   ]
  },
  {
   "cell_type": "code",
   "execution_count": null,
   "id": "a4cf983b",
   "metadata": {},
   "outputs": [],
   "source": [
    "constructions = idf1.idfobjects[\"CONSTRUCTION\"]"
   ]
  },
  {
   "cell_type": "code",
   "execution_count": null,
   "id": "7b2d7177",
   "metadata": {
    "scrolled": true
   },
   "outputs": [],
   "source": [
    "constructions"
   ]
  },
  {
   "cell_type": "markdown",
   "id": "266eb937",
   "metadata": {},
   "source": [
    "We see that each construction has a name, and fields for each layer, starting with our outside layer. Thus, we could add a construction like this:"
   ]
  },
  {
   "cell_type": "code",
   "execution_count": null,
   "id": "cbdf53e4",
   "metadata": {},
   "outputs": [],
   "source": [
    "idf1.newidfobject(\"CONSTRUCTION\",\n",
    "                  Name=\"New_wall_construction\",\n",
    "                  Outside_Layer = construction[0],\n",
    "                  Layer_2 = construction[1],\n",
    "                  Layer_3 = construction[2],\n",
    "                  Layer_4 = construction[3],\n",
    "                  Layer_5 = construction[4],\n",
    "                  Layer_6 = construction[5])"
   ]
  },
  {
   "cell_type": "markdown",
   "id": "092f4fd1",
   "metadata": {},
   "source": [
    "For all effects, EnergyPlus is a programming language, and it thas some flaws that we have to work through to implement certain solutions. In this case, a python array starts counting on index 0, and in E+ idf language, our Layer 0 field is called \"Outside Layer\", and our Layer 1 is called \"Layer 2\". This means that when the Layer index (i) is i = 0, we must specify the field name \"Outside Layer\" and when it is not zero,we must specify i = \"Layer_\" + str(i+1)."
   ]
  },
  {
   "cell_type": "code",
   "execution_count": null,
   "id": "0d20465d",
   "metadata": {},
   "outputs": [],
   "source": [
    "def layer_from_index(i):\n",
    "    if i == 0:\n",
    "        return \"Outside_Layer\"\n",
    "    else:\n",
    "        return \"Layer_\" + str(i+1)"
   ]
  },
  {
   "cell_type": "markdown",
   "id": "f546cfa1",
   "metadata": {},
   "source": [
    "Now that we have the function that defines the idf construction object field names, we want to attribute material names to each field so the IDF can retrieve them from our materials list. We can develop a little function that applies the function above to any construction and returns a python dictionary with the correct field names associated to the index order of our construction array."
   ]
  },
  {
   "cell_type": "code",
   "execution_count": null,
   "id": "0b368744",
   "metadata": {},
   "outputs": [],
   "source": [
    "list(enumerate(construction))"
   ]
  },
  {
   "cell_type": "code",
   "execution_count": null,
   "id": "139b7f09",
   "metadata": {},
   "outputs": [],
   "source": [
    "def layers_dict(construction):\n",
    "    return {layer_from_index(i):kind for i, kind in enumerate(construction)}"
   ]
  },
  {
   "cell_type": "code",
   "execution_count": null,
   "id": "e8d84a8c",
   "metadata": {},
   "outputs": [],
   "source": [
    "layers_dict(construction)"
   ]
  },
  {
   "cell_type": "markdown",
   "id": "acc5cdfa",
   "metadata": {},
   "source": [
    "We can then unpack the dictionary keys as the newidfobject function arguments, and values as argument values."
   ]
  },
  {
   "cell_type": "code",
   "execution_count": null,
   "id": "db45e2b6",
   "metadata": {},
   "outputs": [],
   "source": [
    "idf1.newidfobject(\"CONSTRUCTION\",\n",
    "                  Name=\"New_wall_construction_0\",\n",
    "                  **layers_dict(construction))"
   ]
  },
  {
   "cell_type": "code",
   "execution_count": null,
   "id": "50a841b3",
   "metadata": {
    "scrolled": true
   },
   "outputs": [],
   "source": [
    "constructions"
   ]
  },
  {
   "cell_type": "markdown",
   "id": "f7eea370",
   "metadata": {},
   "source": [
    "We have successfully added a construction object to our constructions library in the IDF File."
   ]
  },
  {
   "cell_type": "markdown",
   "id": "3eb9cf68",
   "metadata": {},
   "source": [
    "If we want to reset our idf to its original state either because we want to create new constructions or change some materials, we can repeat the steps of reading the idf with the respective fname, weather file,  read the materials idf library, replace the empty spaces among words in the materials library, and copy them to our zone idf."
   ]
  },
  {
   "cell_type": "code",
   "execution_count": null,
   "id": "08aebeab",
   "metadata": {},
   "outputs": [],
   "source": [
    "idf1 = IDF(fname1, weather_file)\n",
    "materials = IDF(fname2, weather_file)\n",
    "mats = materials.idfobjects[\"MATERIAL\"] #Opaque materials\n",
    "window_mats = materials.idfobjects[\"WINDOWMATERIAL:GLAZING\"] #Window materials - Glazings\n",
    "window_airgaps_mats = materials.idfobjects[\"WINDOWMATERIAL:GAS\"] #Window materials - Airgaps\n",
    "airgap_mats = materials.idfobjects[\"MATERIAL:AIRGAP\"] #airgap materials for opaque constructions\n",
    "\n",
    "full_mats = []\n",
    "for i in [mats, window_mats, window_airgaps_mats, airgap_mats]:\n",
    "    full_mats = np.append(full_mats, i) #appends all mats to a flat array\n",
    "    \n",
    "for mat in full_mats:\n",
    "    mat.Name = mat.Name.replace(\" \", \"\") #replaces spaces\n",
    "    \n",
    "for mat in full_mats:\n",
    "    idf1.copyidfobject(mat) #copy mats to building idf \n",
    "    \n"
   ]
  },
  {
   "cell_type": "code",
   "execution_count": null,
   "id": "3315bccb",
   "metadata": {
    "scrolled": true
   },
   "outputs": [],
   "source": [
    "idf1.idfobjects[\"CONSTRUCTION\"]"
   ]
  },
  {
   "cell_type": "markdown",
   "id": "90722dc1",
   "metadata": {},
   "source": [
    "and here we have our original constructions and added materials from our materials library idf. But it is not done yet. Now we need to apply this construction to a specific building surface. To do this, we can start by creating again our construction, and by exploring the surfaces in our IDF file."
   ]
  },
  {
   "cell_type": "code",
   "execution_count": null,
   "id": "900616b0",
   "metadata": {},
   "outputs": [],
   "source": [
    "idf1.newidfobject(\"CONSTRUCTION\",\n",
    "                  Name=\"New_wall_construction\",\n",
    "                  **layers_dict(construction))"
   ]
  },
  {
   "cell_type": "code",
   "execution_count": null,
   "id": "5be656b3",
   "metadata": {},
   "outputs": [],
   "source": [
    "constructions = idf1.idfobjects[\"CONSTRUCTION\"]"
   ]
  },
  {
   "cell_type": "code",
   "execution_count": null,
   "id": "2b13e834",
   "metadata": {
    "scrolled": true
   },
   "outputs": [],
   "source": [
    "constructions"
   ]
  },
  {
   "cell_type": "code",
   "execution_count": null,
   "id": "584bbe12",
   "metadata": {},
   "outputs": [],
   "source": [
    "opaque_surfaces = idf1.idfobjects[\"BuildingSurface:Detailed\"]\n",
    "window_surfaces = idf1.idfobjects[\"FenestrationSurface:Detailed\"]"
   ]
  },
  {
   "cell_type": "code",
   "execution_count": null,
   "id": "4fc08298",
   "metadata": {
    "scrolled": true
   },
   "outputs": [],
   "source": [
    "window_surfaces"
   ]
  },
  {
   "cell_type": "code",
   "execution_count": null,
   "id": "9ec56eed",
   "metadata": {},
   "outputs": [],
   "source": [
    "opaque_surfaces"
   ]
  },
  {
   "cell_type": "markdown",
   "id": "ce426fdd",
   "metadata": {},
   "source": [
    "Since we defined an exterior wall construction, we need to attribute the specific construction name to our exterior walls. From observing the objects in our surfaces, we see that there are two fields that can help us filter the exterior walls. An exterior wall as a boundary condition of \"Outdoors\", and a \"Surface Type\" of \"Wall."
   ]
  },
  {
   "cell_type": "code",
   "execution_count": null,
   "id": "66d259b3",
   "metadata": {},
   "outputs": [],
   "source": [
    "for opaque_surface in opaque_surfaces:\n",
    "    if opaque_surface[\"Outside_Boundary_Condition\"] == \"Outdoors\" and opaque_surface[\"Surface_Type\"] == \"Wall\":\n",
    "        opaque_surface[\"Construction_Name\"] = constructions[-1][\"Name\"] #we retrieve the name of the last item in constructions since we added it last, we could also write the construction name that we defined as a string"
   ]
  },
  {
   "cell_type": "code",
   "execution_count": null,
   "id": "102bb3f8",
   "metadata": {},
   "outputs": [],
   "source": [
    "opaque_surfaces"
   ]
  },
  {
   "cell_type": "markdown",
   "id": "da511c92",
   "metadata": {},
   "source": [
    "And we successfully changed our exterior walls construction to our defined construction. we can now rerun the idf and obtain the energy simulation results for our building with the new construction on exterior walls"
   ]
  },
  {
   "cell_type": "markdown",
   "id": "829f8a5a",
   "metadata": {},
   "source": [
    "# Hands-on exercise - finding the best construction solutions for each surface."
   ]
  },
  {
   "cell_type": "markdown",
   "id": "721aa7c6",
   "metadata": {},
   "source": [
    "Imagining that we are planning build our created zone. We want to find the best possible combination of constructions on each surface type that yields the least energy consumption, with the least possible cost. However, if we have $3$ possible constructions for each exterior wall element, each floor element, and each window element we might have hundreds, if not thousands or millions of possible combinations. In this case, since we have $4$ exterior walls, $1$ floor, and $2$ windows, we have $3^7$ possible combinations which represents $2187$ possible solutions. if each simulation takes approximately 10 seconds, we would take around 6 hours to simulate all the possible combinations. Luckily, we can solve this optimization problem in less time with EPPY and python even for larger and more complex problems than this one. Let's start by resetting our idf file to the original, concatenating our materials library, and copying it to our building IDF."
   ]
  },
  {
   "cell_type": "code",
   "execution_count": null,
   "id": "1401523d",
   "metadata": {},
   "outputs": [],
   "source": [
    "idf1 = IDF(fname1, weather_file)\n",
    "materials = IDF(fname2, weather_file)\n",
    "mats = materials.idfobjects[\"MATERIAL\"] #Opaque materials\n",
    "window_mats = materials.idfobjects[\"WINDOWMATERIAL:GLAZING\"] #Window materials - Glazings\n",
    "window_airgaps_mats = materials.idfobjects[\"WINDOWMATERIAL:GAS\"] #Window materials - Airgaps\n",
    "airgap_mats = materials.idfobjects[\"MATERIAL:AIRGAP\"] #airgap materials for opaque constructions\n",
    "constructions = idf1.idfobjects[\"CONSTRUCTION\"]\n",
    "full_mats = []\n",
    "for i in [mats, window_mats, window_airgaps_mats, airgap_mats]:\n",
    "    full_mats = np.append(full_mats, i) #appends all mats to a flat array\n",
    "    \n",
    "for mat in full_mats:\n",
    "    mat.Name = mat.Name.replace(\" \", \"\") #replaces spaces\n",
    "    \n",
    "for mat in full_mats:\n",
    "    idf1.copyidfobject(mat) #copy mats to building idf "
   ]
  },
  {
   "cell_type": "markdown",
   "id": "6b8bb70c",
   "metadata": {},
   "source": [
    "Then we define the possible construction for each element type - walls, floors, and windows, and their respective cost/m2"
   ]
  },
  {
   "cell_type": "code",
   "execution_count": null,
   "id": "2c957a80",
   "metadata": {},
   "outputs": [],
   "source": [
    "Wmaterials = [[\"Reboco-2cm\", \"TijoloFurado_15\", \"AirGap\", \"TijoloFurado_11\", \"Estuque_Claro_1.5\"],\n",
    "              [\"Reboco-2cm\", \"TijoloFurado_11\", \"AirGap\", \"TijoloFurado_11\", \"Estuque_Claro_1.5\"],\n",
    "              [\"Reboco-2cm\", \"TijoloFurado_15\", \"AirGap\", \"IsolamentoXPS-4cm\", \"TijoloFurado_11\", \"Estuque_Claro_1.5\"]]\n",
    "\n",
    "wall_costs = [25, 20, 45]\n",
    "\n",
    "Fmaterials = [[\"PaineisdeMadeira_12\", \"Estuque_Claro_1.5\"],\n",
    "              [\"Ceramicavidrada-1cm\", \"BetonilhadeAcentamento_8\", \"LajeBetao_15\", \"Estuque_Claro_1.5\"],\n",
    "              [\"Ceramicavidrada-1cm\", \"BetonilhadeAcentamento_8\", \"LajeAligeirada_0.25\", \"Estuque_Claro_1.5\"]]\n",
    "\n",
    "floors_costs = [10, 25, 30]\n",
    "\n",
    "Wndmaterials = [[2.69, 0.75, 0.8], [1.70, 0.38, 0.7], [1.25, 0.2, 0.7]]\n",
    "\n",
    "wnd_costs = [50, 80, 100]\n"
   ]
  },
  {
   "cell_type": "markdown",
   "id": "e63c232b",
   "metadata": {},
   "source": [
    "lets start by inserting these constructions in the new idf. We can start by setting new glazing system materials for each window since we haven't done it yet, and then define our constructions according to the selected materials"
   ]
  },
  {
   "cell_type": "code",
   "execution_count": null,
   "id": "6dc7fb47",
   "metadata": {},
   "outputs": [],
   "source": [
    "for mat in enumerate(Wndmaterials):\n",
    "    idf1.newidfobject(\"WINDOWMATERIAL:SIMPLEGLAZINGSYSTEM\",\n",
    "                           Name='window_' + str(mat[0]),\n",
    "                           UFactor = float(mat[1][0]),\n",
    "                           Solar_Heat_Gain_Coefficient= float(mat[1][1]),\n",
    "                           Visible_Transmittance = float(mat[1][2]))"
   ]
  },
  {
   "cell_type": "code",
   "execution_count": null,
   "id": "22b4fe9a",
   "metadata": {},
   "outputs": [],
   "source": [
    "window_mats = idf1.idfobjects[\"WINDOWMATERIAL:SIMPLEGLAZINGSYSTEM\"]"
   ]
  },
  {
   "cell_type": "code",
   "execution_count": null,
   "id": "af74a579",
   "metadata": {
    "scrolled": true
   },
   "outputs": [],
   "source": [
    "window_mats"
   ]
  },
  {
   "cell_type": "code",
   "execution_count": null,
   "id": "82fddcd5",
   "metadata": {},
   "outputs": [],
   "source": [
    "for window_mat in enumerate(window_mats):\n",
    "        idf1.newidfobject(\"CONSTRUCTION\",\n",
    "                          Name = window_mat[1].Name,\n",
    "                          Outside_Layer = window_mat[1].Name)"
   ]
  },
  {
   "cell_type": "code",
   "execution_count": null,
   "id": "45edcdd7",
   "metadata": {
    "scrolled": true
   },
   "outputs": [],
   "source": [
    "constructions"
   ]
  },
  {
   "cell_type": "markdown",
   "id": "52cad150",
   "metadata": {},
   "source": [
    "The window constructions are set in the idf, now we can move on to the walls."
   ]
  },
  {
   "cell_type": "code",
   "execution_count": null,
   "id": "a4b7327f",
   "metadata": {},
   "outputs": [],
   "source": [
    "for construction in enumerate(Wmaterials):\n",
    "     idf1.newidfobject(\"CONSTRUCTION\",\n",
    "                       Name='EXT_WALL' + str(construction[0]),\n",
    "                       **layers_dict(construction[1]))"
   ]
  },
  {
   "cell_type": "code",
   "execution_count": null,
   "id": "8541819e",
   "metadata": {
    "scrolled": true
   },
   "outputs": [],
   "source": [
    "constructions"
   ]
  },
  {
   "cell_type": "markdown",
   "id": "64e1c715",
   "metadata": {},
   "source": [
    "Now we do the same for the floor materials"
   ]
  },
  {
   "cell_type": "code",
   "execution_count": null,
   "id": "ff88afed",
   "metadata": {},
   "outputs": [],
   "source": [
    "for construction in enumerate(Fmaterials):\n",
    "    idf1.newidfobject(\"CONSTRUCTION\",\n",
    "                      Name='floor_' + str(construction[0]),\n",
    "                      **layers_dict(construction[1]))"
   ]
  },
  {
   "cell_type": "code",
   "execution_count": null,
   "id": "7d3de39d",
   "metadata": {},
   "outputs": [],
   "source": [
    "constructions"
   ]
  },
  {
   "cell_type": "markdown",
   "id": "d445598b",
   "metadata": {},
   "source": [
    "Now that we have our constructions all set up, we can start elaborating the optimization function. We want an Energy function, that runs an idf with a specific combination of constructions, one for each surface. Thus, our variables are each surface construction. We want to optimize the exterior walls, floors, and windows. So our variables are the number of exterior wall surfaces, plus the number of floor surfaces, plus the number of window surfaces. Let's isolate the surface elements we want to iterate constructions on."
   ]
  },
  {
   "cell_type": "code",
   "execution_count": null,
   "id": "8ebbc08c",
   "metadata": {
    "scrolled": true
   },
   "outputs": [],
   "source": [
    "opaque_surfaces = idf1.idfobjects[\"BuildingSurface:Detailed\"]\n",
    "window_surfaces = idf1.idfobjects[\"FenestrationSurface:Detailed\"]"
   ]
  },
  {
   "cell_type": "code",
   "execution_count": null,
   "id": "b7f35f8c",
   "metadata": {
    "scrolled": true
   },
   "outputs": [],
   "source": [
    "window_surfaces"
   ]
  },
  {
   "cell_type": "markdown",
   "id": "080199a4",
   "metadata": {},
   "source": [
    "To isolate window surfaces we just need to gather all the idf objects in \"FenestrationSurface:Detailed\". However, to find walls and floors we need to search for them through all the opaque surfaces."
   ]
  },
  {
   "cell_type": "code",
   "execution_count": null,
   "id": "6af3563c",
   "metadata": {
    "scrolled": true
   },
   "outputs": [],
   "source": [
    "opaque_surfaces"
   ]
  },
  {
   "cell_type": "markdown",
   "id": "87cd7ec0",
   "metadata": {},
   "source": [
    "To search for the wall surfaces, we need to test all surfaces for their surface type (wall) and boundary condition(outdoors), if we only searched for walls, we could include interior walls if they existed."
   ]
  },
  {
   "cell_type": "code",
   "execution_count": null,
   "id": "47a4b953",
   "metadata": {},
   "outputs": [],
   "source": [
    "wall_surfaces = []\n",
    "for opaque_surface in opaque_surfaces:\n",
    "    if opaque_surface[\"Surface_Type\"] == \"Wall\" and opaque_surface[\"Outside_Boundary_Condition\"] == \"Outdoors\":\n",
    "        wall_surfaces = np.append(wall_surfaces, opaque_surface)"
   ]
  },
  {
   "cell_type": "code",
   "execution_count": null,
   "id": "2c4e4c8f",
   "metadata": {
    "scrolled": true
   },
   "outputs": [],
   "source": [
    "wall_surfaces"
   ]
  },
  {
   "cell_type": "markdown",
   "id": "495ac0ee",
   "metadata": {},
   "source": [
    "Now we do the same for the floors, but we just need to search through each surface type and not boundary conditions. If there was more than one floor, we would have to create an array for floor_surfaces and other array for ground floor surface, using boundary conditions as above."
   ]
  },
  {
   "cell_type": "code",
   "execution_count": null,
   "id": "900bf34b",
   "metadata": {},
   "outputs": [],
   "source": [
    "floor_surfaces = []\n",
    "for opaque_surface in opaque_surfaces:\n",
    "    if opaque_surface[\"Surface_Type\"] == \"Floor\":\n",
    "        floor_surfaces = np.append(floor_surfaces, opaque_surface)"
   ]
  },
  {
   "cell_type": "code",
   "execution_count": null,
   "id": "3cdfeb42",
   "metadata": {
    "scrolled": true
   },
   "outputs": [],
   "source": [
    "floor_surfaces"
   ]
  },
  {
   "cell_type": "markdown",
   "id": "2d4ebaf6",
   "metadata": {},
   "source": [
    "Now that we have isolated our surface variables, we need to write a function that receives a set with the length of the total number of surfaces that are variables with construction solutions to test for each surface, and returns the heating, cooling, and cost. Additionally, the energy output from the IDF comes in J, which is a hard number to read. However we can create a function that converts J to kWh/m2 based on the floor area of our building."
   ]
  },
  {
   "cell_type": "code",
   "execution_count": null,
   "id": "89f11650",
   "metadata": {},
   "outputs": [],
   "source": [
    "def convert_to_kwh_m2(joules, area):\n",
    "    return joules/(3600 * 1000 * area)"
   ]
  },
  {
   "cell_type": "markdown",
   "id": "c49b86c1",
   "metadata": {},
   "source": [
    "# Optimization function"
   ]
  },
  {
   "cell_type": "code",
   "execution_count": null,
   "id": "6a5e94af",
   "metadata": {},
   "outputs": [],
   "source": [
    "import time\n",
    "\n",
    "def opt_output(xs):\n",
    "    startTime = time.time() #start counting computing time\n",
    "    column_names = []\n",
    "    cost = []\n",
    "    \n",
    "    # Defining constructions based on input variables\n",
    "    \n",
    "    for i in range(len(wall_surfaces)):\n",
    "        column_names = np.append(column_names, wall_surfaces[i][\"Name\"])\n",
    "        wall_surfaces[i][\"Construction_Name\"] = \"EXT_WALL\" + str(xs[i])\n",
    "        cost = np.append(cost, wall_surfaces[i].area * wall_costs[xs[i]])\n",
    "        \n",
    "    for i in range(len(floor_surfaces)):             \n",
    "        column_names = np.append(column_names, floor_surfaces[i][\"Name\"])\n",
    "        floor_surfaces[i][\"Construction_Name\"] = \"floor_\" + str(xs[i + len(wall_surfaces)])\n",
    "        cost = np.append(cost, floor_surfaces[i].area * floors_costs[xs[i + len(wall_surfaces)]])\n",
    "        \n",
    "    for i in range(len(window_surfaces)):\n",
    "        column_names = np.append(column_names, window_surfaces[i][\"Name\"])\n",
    "        window_surfaces[i][\"Construction_Name\"] = \"window_\" + str(xs[i + len(wall_surfaces) + len(floor_surfaces)]) \n",
    "        cost = np.append(cost, window_surfaces[i].area * wnd_costs[xs[i+ len(wall_surfaces) + len(floor_surfaces)]])\n",
    "    \n",
    "    #Running the IDF and obtain inputs\n",
    "    \n",
    "    idf1.run() #run new idf\n",
    "    eso = esoreader.read_from_path(r\"C:\\Users\\GRA\\OneDrive - Universidade de Lisboa\\Desktop\\IN+\\C-Tech\\EPPY\\EPPY_Class\\eplusout.eso\")#Read result file\n",
    "    data = pd.DataFrame(eso.data) #convert dict to dataframe\n",
    "    data.columns = [eso.dd.variables[i][2] for i in data.columns]#set the column names from dict\n",
    "    heating = convert_to_kwh_m2(data[\"Zone Ideal Loads Supply Air Sensible Heating Energy\"].sum(), floor_surfaces[0].area) #Retrieve hourly heating energy\n",
    "    cooling = convert_to_kwh_m2(data[\"Zone Ideal Loads Supply Air Total Cooling Energy\"].sum(), floor_surfaces[0].area)  #Retrieve hourly cooling energy\n",
    "    executionTime = time.time() - startTime #finish counting computing time\n",
    "    df = pd.DataFrame(np.hstack([executionTime, xs, heating, cooling, np.sum(cost)])).T\n",
    "    df.columns = np.hstack((\"executionTime\", column_names, \"heating\", \"cooling\", \"cost\"))\n",
    "    df.to_csv(fname, mode='a', index=False, header=False) #write_to_file\n",
    "    return [heating + cooling, np.sum(cost)]\n",
    "    #return df"
   ]
  },
  {
   "cell_type": "code",
   "execution_count": null,
   "id": "ae568a5a",
   "metadata": {},
   "outputs": [],
   "source": [
    "import datetime\n",
    "def time_str():\n",
    "    now = datetime.datetime.now()\n",
    "    now_str = str(now.year) + \"_\" + str(now.month) + \"_\" + str(now.day) + \"_\" + str(now.hour) + \"_\" + str(now.minute)\n",
    "    return now_str"
   ]
  },
  {
   "cell_type": "code",
   "execution_count": null,
   "id": "59c52637",
   "metadata": {},
   "outputs": [],
   "source": [
    "xs_test = [2, 2, 2, 2, 2, 2, 2]"
   ]
  },
  {
   "cell_type": "code",
   "execution_count": null,
   "id": "eb4d6031",
   "metadata": {},
   "outputs": [],
   "source": [
    "fname = \"test\" + time_str() + '.csv'\n",
    "opt_output(xs_test)"
   ]
  },
  {
   "cell_type": "code",
   "execution_count": null,
   "id": "f184f0b0",
   "metadata": {},
   "outputs": [],
   "source": [
    "wall_costs"
   ]
  },
  {
   "cell_type": "code",
   "execution_count": null,
   "id": "5b91d8a2",
   "metadata": {},
   "outputs": [],
   "source": [
    "wall_surfaces[1].area"
   ]
  },
  {
   "cell_type": "code",
   "execution_count": null,
   "id": "50f1626f",
   "metadata": {},
   "outputs": [],
   "source": [
    "floors_costs"
   ]
  },
  {
   "cell_type": "code",
   "execution_count": null,
   "id": "6d9ac5d4",
   "metadata": {},
   "outputs": [],
   "source": [
    "floor_surfaces[0].area"
   ]
  },
  {
   "cell_type": "code",
   "execution_count": null,
   "id": "996cefc4",
   "metadata": {},
   "outputs": [],
   "source": [
    "wnd_costs"
   ]
  },
  {
   "cell_type": "code",
   "execution_count": null,
   "id": "2f25dca3",
   "metadata": {},
   "outputs": [],
   "source": [
    "window_surfaces[0].area"
   ]
  },
  {
   "cell_type": "code",
   "execution_count": null,
   "id": "652d6bf3",
   "metadata": {},
   "outputs": [],
   "source": [
    "! pip install Platypus-Opt"
   ]
  },
  {
   "cell_type": "code",
   "execution_count": null,
   "id": "c64b6456",
   "metadata": {},
   "outputs": [],
   "source": [
    "from platypus import NSGAII, SPEA2, IBEA, Problem, Integer\n",
    "\n",
    "nvars = len(wall_surfaces) + len(floor_surfaces) + len(window_surfaces)\n",
    "\n",
    "problem_types = []\n",
    "for i in range(nvars):\n",
    "    problem_types = np.append(problem_types, Integer(0, 2))"
   ]
  },
  {
   "cell_type": "code",
   "execution_count": null,
   "id": "a2d96f59",
   "metadata": {},
   "outputs": [],
   "source": [
    "problem_types"
   ]
  },
  {
   "cell_type": "code",
   "execution_count": null,
   "id": "a2d42210",
   "metadata": {
    "scrolled": true
   },
   "outputs": [],
   "source": [
    "n_evals = 300\n",
    "problem = Problem(nvars, 2)\n",
    "problem.types[:] = problem_types\n",
    "problem.function = opt_output\n",
    "\n",
    "fname = \"NSGA_Lisbon\" + time_str() + '.csv'\n",
    "\n",
    "with open(fname, 'a') as my_new_csv_file:\n",
    "    algorithm = NSGAII(problem,\n",
    "                       population_size= 40,\n",
    "                        )\n",
    "    algorithm.run(n_evals)"
   ]
  },
  {
   "cell_type": "code",
   "execution_count": null,
   "id": "48e56786",
   "metadata": {},
   "outputs": [],
   "source": [
    "x = [s.objectives[0] for s in algorithm.result]\n",
    "y = [s.objectives[1] for s in algorithm.result]\n",
    "\n",
    "\n",
    "df_NSGAII = pd.DataFrame([x, y]).transpose()\n",
    "df_NSGAII.columns = [\"heating & cooling\", \"total cost €\"]"
   ]
  },
  {
   "cell_type": "code",
   "execution_count": null,
   "id": "abe4fa74",
   "metadata": {
    "scrolled": true
   },
   "outputs": [],
   "source": [
    "problem = Problem(nvars, 2)\n",
    "problem.types[:] = problem_types\n",
    "problem.function = opt_output\n",
    "\n",
    "fname = \"SPEA2_Lisbon\" + time_str() + '.csv'\n",
    "\n",
    "with open(fname, 'a') as my_new_csv_file:\n",
    "    algorithm = SPEA2(problem,\n",
    "                      population_size= 40)\n",
    "    algorithm.run(n_evals)"
   ]
  },
  {
   "cell_type": "code",
   "execution_count": null,
   "id": "8ef4bddb",
   "metadata": {},
   "outputs": [],
   "source": [
    "x = [s.objectives[0] for s in algorithm.result]\n",
    "y = [s.objectives[1] for s in algorithm.result]\n",
    "\n",
    "df_SPEA2 = pd.DataFrame([x, y]).transpose()\n",
    "df_SPEA2.columns = [\"heating & cooling\", \"total cost €\"]"
   ]
  },
  {
   "cell_type": "code",
   "execution_count": null,
   "id": "f3a3e77c",
   "metadata": {
    "scrolled": true
   },
   "outputs": [],
   "source": [
    "problem = Problem(nvars, 2)\n",
    "problem.types[:] = problem_types\n",
    "problem.function = opt_output\n",
    "\n",
    "fname = \"IBEA_Lisbon\" + time_str() + '.csv'\n",
    "\n",
    "with open(fname, 'a') as my_new_csv_file:\n",
    "    algorithm = IBEA(problem,\n",
    "                     population_size= 40)\n",
    "    algorithm.run(n_evals)"
   ]
  },
  {
   "cell_type": "code",
   "execution_count": null,
   "id": "6bbed451",
   "metadata": {},
   "outputs": [],
   "source": [
    "x = [s.objectives[0] for s in algorithm.result]\n",
    "y = [s.objectives[1] for s in algorithm.result]\n",
    "\n",
    "df_IBEA = pd.DataFrame([x, y]).transpose()\n",
    "df_IBEA.columns = [\"heating & cooling\", \"total cost €\"]"
   ]
  },
  {
   "cell_type": "code",
   "execution_count": null,
   "id": "c389442e",
   "metadata": {},
   "outputs": [],
   "source": [
    "! pip install plotly"
   ]
  },
  {
   "cell_type": "code",
   "execution_count": null,
   "id": "0156b312",
   "metadata": {
    "scrolled": false
   },
   "outputs": [],
   "source": [
    "import plotly.graph_objects as go\n",
    "fig = go.Figure()\n",
    "dfs = {\"IBEA\" : df_IBEA, \"SPEA2\": df_SPEA2, \"NSGAII\" : df_NSGAII}\n",
    "\n",
    "for i in dfs:\n",
    "    fig = fig.add_trace(go.Scatter(#data_frame = dfs[i],\n",
    "                                    x = dfs[i][\"heating & cooling\"],\n",
    "                                    y = dfs[i][\"total cost €\"],\n",
    "                                    name = i,\n",
    "                                    opacity = 0.7,\n",
    "                                    #line = None,\n",
    "                                    mode = \"lines\",\n",
    "                                    marker = dict(size = 0),\n",
    "                                    #alphahull =0,\n",
    "                                    showlegend= True))\n",
    "    \n",
    "fig.show()"
   ]
  },
  {
   "cell_type": "markdown",
   "id": "78913839",
   "metadata": {},
   "source": [
    "This work was supported by international funds through Fundo Europeu de Desenvolvimento Regional (FEDER) with reference <i> POCI-01-0247-FEDER-045919 </i>, national funds through PhD grant under contract of FCT with reference <i>2021.04849.BD.</i><p>\n",
    "If you use this notebook for research purposes please cite: <p>\n",
    "<i>G. Araujo, L. Santos, A. Leitão, and R. Gomes, “Ad-based surrogate models for simulation and optimization of large urban areas,” in 27th International Conference of the Association for Computer-Aided Architectural Design Research in Asia (CAADRIA 2022)"
   ]
  },
  {
   "cell_type": "code",
   "execution_count": null,
   "id": "15a2209a",
   "metadata": {},
   "outputs": [],
   "source": []
  }
 ],
 "metadata": {
  "kernelspec": {
   "display_name": "Python 3",
   "language": "python",
   "name": "python3"
  },
  "language_info": {
   "codemirror_mode": {
    "name": "ipython",
    "version": 3
   },
   "file_extension": ".py",
   "mimetype": "text/x-python",
   "name": "python",
   "nbconvert_exporter": "python",
   "pygments_lexer": "ipython3",
   "version": "3.8.8"
  }
 },
 "nbformat": 4,
 "nbformat_minor": 5
}
